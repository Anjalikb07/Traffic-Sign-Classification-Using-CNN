{
 "cells": [
  {
   "cell_type": "markdown",
   "id": "dea12f26",
   "metadata": {},
   "source": [
    "# TRAFFIC SIGNS CLASSIFICATION USING CNN"
   ]
  },
  {
   "cell_type": "markdown",
   "id": "5f8b2ac7",
   "metadata": {},
   "source": [
    "### Traffic signs, indeed provide us a multitude of information and guide us accordingly so that we can move safely. Traffic sign classification is very useful in automatic driver systems.\n",
    "\n",
    "### In this project I am using a CNN model for Traffic sign classification. A convolutional neural network is a class of deep learning networks, used to examine and check visual imagery. It is used to train the image classification and recognition model because of its high accuracy and precision."
   ]
  },
  {
   "cell_type": "code",
   "execution_count": 45,
   "id": "456849db",
   "metadata": {},
   "outputs": [],
   "source": [
    "##importing necessary libraries"
   ]
  },
  {
   "cell_type": "code",
   "execution_count": 1,
   "id": "51da9e9c",
   "metadata": {},
   "outputs": [],
   "source": [
    "import numpy as np\n",
    "import pandas as pd"
   ]
  },
  {
   "cell_type": "code",
   "execution_count": 2,
   "id": "b9ddc15a",
   "metadata": {},
   "outputs": [],
   "source": [
    "import matplotlib.pyplot as plt\n",
    "import cv2\n",
    "import tensorflow as tf\n",
    "from PIL import Image"
   ]
  },
  {
   "cell_type": "code",
   "execution_count": 3,
   "id": "58496a92",
   "metadata": {},
   "outputs": [],
   "source": [
    "import os"
   ]
  },
  {
   "cell_type": "code",
   "execution_count": 4,
   "id": "c14dc437",
   "metadata": {},
   "outputs": [],
   "source": [
    "os.chdir('C:/TRAFFIC SIGNS RECOGNITION')"
   ]
  },
  {
   "cell_type": "code",
   "execution_count": 5,
   "id": "41031089",
   "metadata": {},
   "outputs": [],
   "source": [
    "from tensorflow.keras.utils import to_categorical"
   ]
  },
  {
   "cell_type": "code",
   "execution_count": 6,
   "id": "51f23160",
   "metadata": {},
   "outputs": [],
   "source": [
    "from keras.models import Sequential, load_model\n",
    "from keras.layers import Conv2D, MaxPool2D, Dense, Flatten, Dropout"
   ]
  },
  {
   "cell_type": "code",
   "execution_count": 7,
   "id": "65d95709",
   "metadata": {},
   "outputs": [],
   "source": [
    "## Store data,labels in the list"
   ]
  },
  {
   "cell_type": "code",
   "execution_count": 8,
   "id": "d38af38e",
   "metadata": {},
   "outputs": [],
   "source": [
    "data=[]\n",
    "labels=[]\n",
    "#we have 43 classes\n",
    "classes=43\n",
    "cur_path=os.getcwd()"
   ]
  },
  {
   "cell_type": "code",
   "execution_count": 9,
   "id": "f21e4622",
   "metadata": {},
   "outputs": [
    {
     "data": {
      "text/plain": [
       "'C:\\\\TRAFFIC SIGNS RECOGNITION'"
      ]
     },
     "execution_count": 9,
     "metadata": {},
     "output_type": "execute_result"
    }
   ],
   "source": [
    "cur_path"
   ]
  },
  {
   "cell_type": "code",
   "execution_count": 10,
   "id": "26d3b4d4",
   "metadata": {},
   "outputs": [],
   "source": [
    "##preprocess the images"
   ]
  },
  {
   "cell_type": "code",
   "execution_count": 11,
   "id": "04d83789",
   "metadata": {},
   "outputs": [],
   "source": [
    "for i in range(classes):\n",
    "    path=os.path.join(cur_path,'train',str(i))\n",
    "    images=os.listdir(path)\n",
    "    for a in images:\n",
    "        try:\n",
    "            image=Image.open(path +'\\\\'+a)\n",
    "            image=image.resize((30,30))\n",
    "            image=np.array(image)\n",
    "            data.append(image)\n",
    "            labels.append(i)\n",
    "        except Exception as e:\n",
    "            print(e)"
   ]
  },
  {
   "cell_type": "code",
   "execution_count": 12,
   "id": "a51378b3",
   "metadata": {},
   "outputs": [],
   "source": [
    "##converting list into numpy array"
   ]
  },
  {
   "cell_type": "code",
   "execution_count": 13,
   "id": "0474174e",
   "metadata": {},
   "outputs": [],
   "source": [
    "data=np.array(data)\n",
    "labels=np.array(labels)"
   ]
  },
  {
   "cell_type": "code",
   "execution_count": 14,
   "id": "d0a368fc",
   "metadata": {},
   "outputs": [],
   "source": [
    "##save labels and data for future use"
   ]
  },
  {
   "cell_type": "code",
   "execution_count": 15,
   "id": "bb9c5883",
   "metadata": {},
   "outputs": [],
   "source": [
    "##i have created traing folder to save data"
   ]
  },
  {
   "cell_type": "code",
   "execution_count": 16,
   "id": "caf23c0a",
   "metadata": {},
   "outputs": [],
   "source": [
    "#os.mkdir"
   ]
  },
  {
   "cell_type": "code",
   "execution_count": 17,
   "id": "b9ed6d0a",
   "metadata": {},
   "outputs": [],
   "source": [
    "np.save('./Training/data',data)\n",
    "np.save('./Training/target',labels)"
   ]
  },
  {
   "cell_type": "code",
   "execution_count": 18,
   "id": "f829c054",
   "metadata": {},
   "outputs": [],
   "source": [
    "##load data and labels"
   ]
  },
  {
   "cell_type": "code",
   "execution_count": 19,
   "id": "355c9de1",
   "metadata": {},
   "outputs": [],
   "source": [
    "data=np.load('./Training/data.npy')\n",
    "labels=np.load('./Training/target.npy')"
   ]
  },
  {
   "cell_type": "code",
   "execution_count": 20,
   "id": "d12d7c9c",
   "metadata": {},
   "outputs": [
    {
     "name": "stdout",
     "output_type": "stream",
     "text": [
      "(39209, 30, 30, 3) (39209,)\n"
     ]
    }
   ],
   "source": [
    "print(data.shape,labels.shape)"
   ]
  },
  {
   "cell_type": "code",
   "execution_count": 21,
   "id": "f6568532",
   "metadata": {},
   "outputs": [],
   "source": [
    "from sklearn.model_selection import train_test_split"
   ]
  },
  {
   "cell_type": "code",
   "execution_count": 22,
   "id": "28c71785",
   "metadata": {},
   "outputs": [],
   "source": [
    "X_train,X_test,y_train,y_test=train_test_split(data,labels,test_size=0.2,random_state=0)"
   ]
  },
  {
   "cell_type": "code",
   "execution_count": 23,
   "id": "a39288e5",
   "metadata": {},
   "outputs": [
    {
     "name": "stdout",
     "output_type": "stream",
     "text": [
      "(31367, 30, 30, 3) (7842, 30, 30, 3) (31367,) (7842,)\n"
     ]
    }
   ],
   "source": [
    "print(X_train.shape, X_test.shape, y_train.shape, y_test.shape)"
   ]
  },
  {
   "cell_type": "code",
   "execution_count": 24,
   "id": "2f399cef",
   "metadata": {},
   "outputs": [],
   "source": [
    "#Convert labels to onehot encoding"
   ]
  },
  {
   "cell_type": "code",
   "execution_count": 25,
   "id": "4c1636d1",
   "metadata": {},
   "outputs": [],
   "source": [
    "y_train = to_categorical(y_train, 43)\n",
    "y_test = to_categorical(y_test, 43)"
   ]
  },
  {
   "cell_type": "code",
   "execution_count": 26,
   "id": "faa5cbff",
   "metadata": {},
   "outputs": [],
   "source": [
    "#now its time to build model"
   ]
  },
  {
   "cell_type": "code",
   "execution_count": 27,
   "id": "22890636",
   "metadata": {},
   "outputs": [],
   "source": [
    "model = Sequential()\n",
    "model.add(Conv2D(filters=32, kernel_size=(5,5), activation='relu', input_shape=X_train.shape[1:]))\n",
    "model.add(Conv2D(filters=32, kernel_size=(5,5), activation='relu'))\n",
    "model.add(MaxPool2D(pool_size=(2, 2)))\n",
    "model.add(Dropout(rate=0.25))\n",
    "model.add(Conv2D(filters=64, kernel_size=(3, 3), activation='relu'))\n",
    "model.add(Conv2D(filters=64, kernel_size=(3, 3), activation='relu'))\n",
    "model.add(MaxPool2D(pool_size=(2, 2)))\n",
    "model.add(Dropout(rate=0.25))\n",
    "model.add(Flatten())\n",
    "model.add(Dense(256, activation='relu'))\n",
    "model.add(Dropout(rate=0.5))\n",
    "# We have 43 classes that's why we have defined 43 in the dense\n",
    "model.add(Dense(43, activation='softmax'))"
   ]
  },
  {
   "cell_type": "code",
   "execution_count": 28,
   "id": "6a7224a8",
   "metadata": {},
   "outputs": [],
   "source": [
    "#Compilation of the model\n",
    "model.compile(loss='categorical_crossentropy', optimizer='adam', metrics=['accuracy'])"
   ]
  },
  {
   "cell_type": "code",
   "execution_count": 29,
   "id": "a2d455f5",
   "metadata": {},
   "outputs": [
    {
     "name": "stdout",
     "output_type": "stream",
     "text": [
      "Epoch 1/20\n",
      "981/981 [==============================] - 155s 156ms/step - loss: 2.2420 - accuracy: 0.4333 - val_loss: 0.9126 - val_accuracy: 0.7558\n",
      "Epoch 2/20\n",
      "981/981 [==============================] - 151s 154ms/step - loss: 0.9424 - accuracy: 0.7166 - val_loss: 0.3865 - val_accuracy: 0.8916\n",
      "Epoch 3/20\n",
      "981/981 [==============================] - 150s 153ms/step - loss: 0.5590 - accuracy: 0.8304 - val_loss: 0.3013 - val_accuracy: 0.9090\n",
      "Epoch 4/20\n",
      "981/981 [==============================] - 150s 153ms/step - loss: 0.4156 - accuracy: 0.8748 - val_loss: 0.1801 - val_accuracy: 0.9487\n",
      "Epoch 5/20\n",
      "981/981 [==============================] - 368s 375ms/step - loss: 0.3573 - accuracy: 0.8948 - val_loss: 0.1334 - val_accuracy: 0.9617\n",
      "Epoch 6/20\n",
      "981/981 [==============================] - 149s 152ms/step - loss: 0.3142 - accuracy: 0.9085 - val_loss: 0.1083 - val_accuracy: 0.9714\n",
      "Epoch 7/20\n",
      "981/981 [==============================] - 148s 151ms/step - loss: 0.2857 - accuracy: 0.9159 - val_loss: 0.0926 - val_accuracy: 0.9750\n",
      "Epoch 8/20\n",
      "981/981 [==============================] - 149s 152ms/step - loss: 0.2996 - accuracy: 0.9117 - val_loss: 0.0870 - val_accuracy: 0.9782\n",
      "Epoch 9/20\n",
      "981/981 [==============================] - 4491s 5s/step - loss: 0.2423 - accuracy: 0.9320 - val_loss: 0.0939 - val_accuracy: 0.9727\n",
      "Epoch 10/20\n",
      "981/981 [==============================] - 148s 151ms/step - loss: 0.2472 - accuracy: 0.9290 - val_loss: 0.0770 - val_accuracy: 0.9802\n",
      "Epoch 11/20\n",
      "981/981 [==============================] - 148s 151ms/step - loss: 0.2407 - accuracy: 0.9315 - val_loss: 0.0626 - val_accuracy: 0.9852\n",
      "Epoch 12/20\n",
      "981/981 [==============================] - 147s 149ms/step - loss: 0.2400 - accuracy: 0.9322 - val_loss: 0.1337 - val_accuracy: 0.9648\n",
      "Epoch 13/20\n",
      "981/981 [==============================] - 152s 155ms/step - loss: 0.2252 - accuracy: 0.9372 - val_loss: 0.0954 - val_accuracy: 0.9719\n",
      "Epoch 14/20\n",
      "981/981 [==============================] - 148s 151ms/step - loss: 0.2327 - accuracy: 0.9353 - val_loss: 0.0544 - val_accuracy: 0.9855\n",
      "Epoch 15/20\n",
      "981/981 [==============================] - 148s 151ms/step - loss: 0.2206 - accuracy: 0.9393 - val_loss: 0.0679 - val_accuracy: 0.9830\n",
      "Epoch 16/20\n",
      "981/981 [==============================] - 147s 150ms/step - loss: 0.2298 - accuracy: 0.9368 - val_loss: 0.0605 - val_accuracy: 0.9829\n",
      "Epoch 17/20\n",
      "981/981 [==============================] - 147s 150ms/step - loss: 0.2297 - accuracy: 0.9353 - val_loss: 0.0649 - val_accuracy: 0.9813\n",
      "Epoch 18/20\n",
      "981/981 [==============================] - 149s 152ms/step - loss: 0.2177 - accuracy: 0.9405 - val_loss: 0.1135 - val_accuracy: 0.9682\n",
      "Epoch 19/20\n",
      "981/981 [==============================] - 147s 150ms/step - loss: 0.2680 - accuracy: 0.9248 - val_loss: 0.0804 - val_accuracy: 0.9776\n",
      "Epoch 20/20\n",
      "981/981 [==============================] - 146s 149ms/step - loss: 0.2298 - accuracy: 0.9371 - val_loss: 0.0681 - val_accuracy: 0.9844\n"
     ]
    }
   ],
   "source": [
    "#fitting the model\n",
    "epochs = 20\n",
    "history = model.fit(X_train, y_train, batch_size=32, epochs=epochs, validation_data=(X_test, y_test))"
   ]
  },
  {
   "cell_type": "code",
   "execution_count": 30,
   "id": "0b517cf4",
   "metadata": {},
   "outputs": [
    {
     "data": {
      "image/png": "[encoded data removed]",
      "text/plain": [
       "<Figure size 432x288 with 1 Axes>"
      ]
     },
     "metadata": {
      "needs_background": "light"
     },
     "output_type": "display_data"
    }
   ],
   "source": [
    "# accuracy \n",
    "plt.figure(0)\n",
    "plt.plot(history.history['accuracy'], label='training accuracy')\n",
    "plt.plot(history.history['val_accuracy'], label='val accuracy')\n",
    "plt.title('Accuracy')\n",
    "plt.xlabel('epochs')\n",
    "plt.ylabel('accuracy')\n",
    "plt.legend()\n",
    "plt.show()"
   ]
  },
  {
   "cell_type": "code",
   "execution_count": 31,
   "id": "a60bc516",
   "metadata": {},
   "outputs": [
    {
     "data": {
      "image/png": "[encoded data removed]",
      "text/plain": [
       "<Figure size 432x288 with 1 Axes>"
      ]
     },
     "metadata": {
      "needs_background": "light"
     },
     "output_type": "display_data"
    }
   ],
   "source": [
    "# Loss\n",
    "plt.plot(history.history['loss'], label='training loss')\n",
    "plt.plot(history.history['val_loss'], label='val loss')\n",
    "plt.title('Loss')\n",
    "plt.xlabel('epochs')\n",
    "plt.ylabel('loss')\n",
    "plt.legend()\n",
    "plt.show()"
   ]
  },
  {
   "cell_type": "code",
   "execution_count": 32,
   "id": "acc436a0",
   "metadata": {},
   "outputs": [],
   "source": [
    "##LETS DO TESTING ON TEST DATA"
   ]
  },
  {
   "cell_type": "code",
   "execution_count": 33,
   "id": "8c64067d",
   "metadata": {},
   "outputs": [],
   "source": [
    "def testing(testcsv):\n",
    "    y_test = pd.read_csv(testcsv)\n",
    "    label = y_test[\"ClassId\"].values\n",
    "    imgs = y_test[\"Path\"].values\n",
    "    data=[]\n",
    "    for img in imgs:\n",
    "        image = Image.open(img)\n",
    "        image = image.resize((30,30))\n",
    "        data.append(np.array(image))\n",
    "    X_test=np.array(data)\n",
    "    return X_test,label"
   ]
  },
  {
   "cell_type": "code",
   "execution_count": 34,
   "id": "76d7f2ad",
   "metadata": {},
   "outputs": [],
   "source": [
    "X_test, label = testing('Test.csv')"
   ]
  },
  {
   "cell_type": "code",
   "execution_count": 35,
   "id": "e2db5810",
   "metadata": {},
   "outputs": [
    {
     "data": {
      "text/plain": [
       "array([16,  1, 38, ...,  6,  7, 10], dtype=int64)"
      ]
     },
     "execution_count": 35,
     "metadata": {},
     "output_type": "execute_result"
    }
   ],
   "source": [
    "Y_pred = np.argmax(model.predict(X_test),axis=1)\n",
    "Y_pred"
   ]
  },
  {
   "cell_type": "code",
   "execution_count": 36,
   "id": "6a7fe196",
   "metadata": {},
   "outputs": [],
   "source": [
    "##ACCURACY WITH THE TEST DATA"
   ]
  },
  {
   "cell_type": "code",
   "execution_count": 37,
   "id": "ef5e8add",
   "metadata": {},
   "outputs": [
    {
     "name": "stdout",
     "output_type": "stream",
     "text": [
      "0.9540775930324624\n"
     ]
    }
   ],
   "source": [
    "from sklearn.metrics import accuracy_score\n",
    "print(accuracy_score(label, Y_pred))"
   ]
  },
  {
   "cell_type": "code",
   "execution_count": 38,
   "id": "bd55f988",
   "metadata": {},
   "outputs": [],
   "source": [
    "##SAVE THE MODEL"
   ]
  },
  {
   "cell_type": "code",
   "execution_count": 39,
   "id": "a3073813",
   "metadata": {},
   "outputs": [],
   "source": [
    "model.save(\"./training/TSR.h5\")"
   ]
  },
  {
   "cell_type": "code",
   "execution_count": 40,
   "id": "a24b35f2",
   "metadata": {},
   "outputs": [],
   "source": [
    "##LOAD THE MODEL"
   ]
  },
  {
   "cell_type": "code",
   "execution_count": 41,
   "id": "8e9af979",
   "metadata": {},
   "outputs": [],
   "source": [
    "import os\n",
    "os.chdir(r'C:/TRAFFIC SIGNS RECOGNITION')\n",
    "from keras.models import load_model\n",
    "model = load_model('./training/TSR.h5')"
   ]
  },
  {
   "cell_type": "code",
   "execution_count": 42,
   "id": "25c44380",
   "metadata": {},
   "outputs": [],
   "source": [
    "# Classes of trafic signs\n",
    "classes = { 0:'Speed limit (20km/h)',\n",
    "            1:'Speed limit (30km/h)', \n",
    "            2:'Speed limit (50km/h)', \n",
    "            3:'Speed limit (60km/h)', \n",
    "            4:'Speed limit (70km/h)', \n",
    "            5:'Speed limit (80km/h)', \n",
    "            6:'End of speed limit (80km/h)', \n",
    "            7:'Speed limit (100km/h)', \n",
    "            8:'Speed limit (120km/h)', \n",
    "            9:'No passing', \n",
    "            10:'No passing veh over 3.5 tons', \n",
    "            11:'Right-of-way at intersection', \n",
    "            12:'Priority road', \n",
    "            13:'Yield', \n",
    "            14:'Stop', \n",
    "            15:'No vehicles', \n",
    "            16:'Veh > 3.5 tons prohibited', \n",
    "            17:'No entry', \n",
    "            18:'General caution', \n",
    "            19:'Dangerous curve left', \n",
    "            20:'Dangerous curve right', \n",
    "            21:'Double curve', \n",
    "            22:'Bumpy road', \n",
    "            23:'Slippery road', \n",
    "            24:'Road narrows on the right', \n",
    "            25:'Road work', \n",
    "            26:'Traffic signals', \n",
    "            27:'Pedestrians', \n",
    "            28:'Children crossing', \n",
    "            29:'Bicycles crossing', \n",
    "            30:'Beware of ice/snow',\n",
    "            31:'Wild animals crossing', \n",
    "            32:'End speed + passing limits', \n",
    "            33:'Turn right ahead', \n",
    "            34:'Turn left ahead', \n",
    "            35:'Ahead only', \n",
    "            36:'Go straight or right', \n",
    "            37:'Go straight or left', \n",
    "            38:'Keep right', \n",
    "            39:'Keep left', \n",
    "            40:'Roundabout mandatory', \n",
    "            41:'End of no passing', \n",
    "            42:'End no passing veh > 3.5 tons' }"
   ]
  },
  {
   "cell_type": "code",
   "execution_count": 43,
   "id": "88679b5c",
   "metadata": {},
   "outputs": [],
   "source": [
    "from PIL import Image\n",
    "import numpy as np\n",
    "import matplotlib.pyplot as plt\n",
    "def test_on_img(img):\n",
    "    data=[]\n",
    "    image = Image.open(img)\n",
    "    image = image.resize((30,30))\n",
    "    data.append(np.array(image))\n",
    "    X_test=np.array(data)\n",
    "    Y_pred = np.argmax(model.predict(X_test),axis=1)\n",
    "    return image,Y_pred"
   ]
  },
  {
   "cell_type": "code",
   "execution_count": 44,
   "id": "5e719d09",
   "metadata": {},
   "outputs": [
    {
     "name": "stdout",
     "output_type": "stream",
     "text": [
      "Predicted traffic sign is:  Bumpy road\n"
     ]
    },
    {
     "data": {
      "image/png": "[encoded data removed]",
      "text/plain": [
       "<Figure size 432x288 with 1 Axes>"
      ]
     },
     "metadata": {
      "needs_background": "light"
     },
     "output_type": "display_data"
    }
   ],
   "source": [
    "plot,prediction = test_on_img(r'C:/TRAFFIC SIGNS RECOGNITION\\Test\\00500.png')\n",
    "s = [str(i) for i in prediction] \n",
    "a = int(\"\".join(s)) \n",
    "print(\"Predicted traffic sign is: \", classes[a])\n",
    "plt.imshow(plot)\n",
    "plt.show()"
   ]
  },
  {
   "cell_type": "code",
   "execution_count": null,
   "id": "a1eeb58d",
   "metadata": {},
   "outputs": [],
   "source": []
  },
  {
   "cell_type": "code",
   "execution_count": null,
   "id": "7c728eac",
   "metadata": {},
   "outputs": [],
   "source": []
  },
  {
   "cell_type": "code",
   "execution_count": null,
   "id": "f298ff46",
   "metadata": {},
   "outputs": [],
   "source": []
  }
 ],
 "metadata": {
  "kernelspec": {
   "display_name": "Python 3 (ipykernel)",
   "language": "python",
   "name": "python3"
  },
  "language_info": {
   "codemirror_mode": {
    "name": "ipython",
    "version": 3
   },
   "file_extension": ".py",
   "mimetype": "text/x-python",
   "name": "python",
   "nbconvert_exporter": "python",
   "pygments_lexer": "ipython3",
   "version": "3.9.13"
  }
 },
 "nbformat": 4,
 "nbformat_minor": 5
}
